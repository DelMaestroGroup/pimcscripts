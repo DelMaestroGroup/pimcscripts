{
 "metadata": {
  "name": "gensubmitfix.ipynb"
 },
 "nbformat": 3,
 "nbformat_minor": 0,
 "worksheets": [
  {
   "cells": [
    {
     "cell_type": "code",
     "collapsed": false,
     "input": [
      "import itertools"
     ],
     "language": "python",
     "metadata": {},
     "outputs": [],
     "prompt_number": 1
    },
    {
     "cell_type": "code",
     "collapsed": false,
     "input": [
      "option_value={'p':['p1','p2','p3'],'T':['T1','T2','T3','T4','T6'],'u':['u30','u40']}\n",
      "print option_value"
     ],
     "language": "python",
     "metadata": {},
     "outputs": [
      {
       "output_type": "stream",
       "stream": "stdout",
       "text": [
        "{'p': ['p1', 'p2', 'p3'], 'u': ['u30', 'u40'], 'T': ['T1', 'T2', 'T3', 'T4', 'T6']}\n"
       ]
      }
     ],
     "prompt_number": 3
    },
    {
     "cell_type": "code",
     "collapsed": false,
     "input": [
      "valuelist = option_value.values()\n",
      "print valuelist"
     ],
     "language": "python",
     "metadata": {},
     "outputs": [
      {
       "output_type": "stream",
       "stream": "stdout",
       "text": [
        "[['p1', 'p2', 'p3'], ['u30', 'u40'], ['T1', 'T2', 'T3', 'T4', 'T6']]\n"
       ]
      }
     ],
     "prompt_number": 28
    },
    {
     "cell_type": "code",
     "collapsed": false,
     "input": [
      "combos=list(itertools.product(*valuelist))\n",
      "for i in combos:\n",
      "    print i"
     ],
     "language": "python",
     "metadata": {},
     "outputs": [
      {
       "output_type": "stream",
       "stream": "stdout",
       "text": [
        "('p1', 'u30', 'T1')\n",
        "('p1', 'u30', 'T2')\n",
        "('p1', 'u30', 'T3')\n",
        "('p1', 'u30', 'T4')\n",
        "('p1', 'u30', 'T6')\n",
        "('p1', 'u40', 'T1')\n",
        "('p1', 'u40', 'T2')\n",
        "('p1', 'u40', 'T3')\n",
        "('p1', 'u40', 'T4')\n",
        "('p1', 'u40', 'T6')\n",
        "('p2', 'u30', 'T1')\n",
        "('p2', 'u30', 'T2')\n",
        "('p2', 'u30', 'T3')\n",
        "('p2', 'u30', 'T4')\n",
        "('p2', 'u30', 'T6')\n",
        "('p2', 'u40', 'T1')\n",
        "('p2', 'u40', 'T2')\n",
        "('p2', 'u40', 'T3')\n",
        "('p2', 'u40', 'T4')\n",
        "('p2', 'u40', 'T6')\n",
        "('p3', 'u30', 'T1')\n",
        "('p3', 'u30', 'T2')\n",
        "('p3', 'u30', 'T3')\n",
        "('p3', 'u30', 'T4')\n",
        "('p3', 'u30', 'T6')\n",
        "('p3', 'u40', 'T1')\n",
        "('p3', 'u40', 'T2')\n",
        "('p3', 'u40', 'T3')\n",
        "('p3', 'u40', 'T4')\n",
        "('p3', 'u40', 'T6')\n"
       ]
      }
     ],
     "prompt_number": 29
    },
    {
     "cell_type": "code",
     "collapsed": false,
     "input": [
      "keys = option_value.keys()\n",
      "print keys"
     ],
     "language": "python",
     "metadata": {},
     "outputs": [
      {
       "output_type": "stream",
       "stream": "stdout",
       "text": [
        "['p', 'u', 'T']\n"
       ]
      }
     ],
     "prompt_number": 30
    },
    {
     "cell_type": "code",
     "collapsed": false,
     "input": [
      "for combo in combos:\n",
      "    cmdstring = ''\n",
      "    for i in range(len(combo)):\n",
      "        substring ='-'+keys[i]+' '+str(combo[i])+' '\n",
      "        cmdstring+=substring\n",
      "    print cmdstring+'end'"
     ],
     "language": "python",
     "metadata": {},
     "outputs": [
      {
       "output_type": "stream",
       "stream": "stdout",
       "text": [
        "-p p1 -u u30 -T T1 end\n",
        "-p p1 -u u30 -T T2 end\n",
        "-p p1 -u u30 -T T3 end\n",
        "-p p1 -u u30 -T T4 end\n",
        "-p p1 -u u30 -T T6 end\n",
        "-p p1 -u u40 -T T1 end\n",
        "-p p1 -u u40 -T T2 end\n",
        "-p p1 -u u40 -T T3 end\n",
        "-p p1 -u u40 -T T4 end\n",
        "-p p1 -u u40 -T T6 end\n",
        "-p p2 -u u30 -T T1 end\n",
        "-p p2 -u u30 -T T2 end\n",
        "-p p2 -u u30 -T T3 end\n",
        "-p p2 -u u30 -T T4 end\n",
        "-p p2 -u u30 -T T6 end\n",
        "-p p2 -u u40 -T T1 end\n",
        "-p p2 -u u40 -T T2 end\n",
        "-p p2 -u u40 -T T3 end\n",
        "-p p2 -u u40 -T T4 end\n",
        "-p p2 -u u40 -T T6 end\n",
        "-p p3 -u u30 -T T1 end\n",
        "-p p3 -u u30 -T T2 end\n",
        "-p p3 -u u30 -T T3 end\n",
        "-p p3 -u u30 -T T4 end\n",
        "-p p3 -u u30 -T T6 end\n",
        "-p p3 -u u40 -T T1 end\n",
        "-p p3 -u u40 -T T2 end\n",
        "-p p3 -u u40 -T T3 end\n",
        "-p p3 -u u40 -T T4 end\n",
        "-p p3 -u u40 -T T6 end\n"
       ]
      }
     ],
     "prompt_number": 39
    },
    {
     "cell_type": "code",
     "collapsed": false,
     "input": [
      "list1=[i for i in range(10)]"
     ],
     "language": "python",
     "metadata": {},
     "outputs": [],
     "prompt_number": 1
    },
    {
     "cell_type": "code",
     "collapsed": false,
     "input": [
      "print len(list1)"
     ],
     "language": "python",
     "metadata": {},
     "outputs": [
      {
       "output_type": "stream",
       "stream": "stdout",
       "text": [
        "10\n"
       ]
      }
     ],
     "prompt_number": 3
    },
    {
     "cell_type": "code",
     "collapsed": false,
     "input": [],
     "language": "python",
     "metadata": {},
     "outputs": []
    }
   ],
   "metadata": {}
  }
 ]
}